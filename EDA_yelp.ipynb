{
 "cells": [
  {
   "cell_type": "code",
   "execution_count": 1,
   "metadata": {},
   "outputs": [
    {
     "ename": "KeyboardInterrupt",
     "evalue": "",
     "output_type": "error",
     "traceback": [
      "\u001b[1;31m---------------------------------------------------------------------------\u001b[0m",
      "\u001b[1;31mKeyboardInterrupt\u001b[0m                         Traceback (most recent call last)",
      "Cell \u001b[1;32mIn[1], line 10\u001b[0m\n\u001b[0;32m      1\u001b[0m \u001b[38;5;28;01mfrom\u001b[39;00m \u001b[38;5;21;01mpyspark\u001b[39;00m\u001b[38;5;21;01m.\u001b[39;00m\u001b[38;5;21;01msql\u001b[39;00m \u001b[38;5;28;01mimport\u001b[39;00m SparkSession\n\u001b[0;32m      3\u001b[0m \u001b[38;5;66;03m# Initialize Spark session with proper memory settings\u001b[39;00m\n\u001b[0;32m      4\u001b[0m spark \u001b[38;5;241m=\u001b[39m \u001b[43mSparkSession\u001b[49m\u001b[38;5;241;43m.\u001b[39;49m\u001b[43mbuilder\u001b[49m\u001b[43m \u001b[49m\u001b[43m\\\u001b[49m\n\u001b[0;32m      5\u001b[0m \u001b[43m    \u001b[49m\u001b[38;5;241;43m.\u001b[39;49m\u001b[43mappName\u001b[49m\u001b[43m(\u001b[49m\u001b[38;5;124;43m\"\u001b[39;49m\u001b[38;5;124;43mLocal VADER Sentiment Analysis\u001b[39;49m\u001b[38;5;124;43m\"\u001b[39;49m\u001b[43m)\u001b[49m\u001b[43m \u001b[49m\u001b[43m\\\u001b[49m\n\u001b[0;32m      6\u001b[0m \u001b[43m    \u001b[49m\u001b[38;5;241;43m.\u001b[39;49m\u001b[43mmaster\u001b[49m\u001b[43m(\u001b[49m\u001b[38;5;124;43m\"\u001b[39;49m\u001b[38;5;124;43mlocal[*]\u001b[39;49m\u001b[38;5;124;43m\"\u001b[39;49m\u001b[43m)\u001b[49m\u001b[43m \u001b[49m\u001b[43m\\\u001b[49m\n\u001b[0;32m      7\u001b[0m \u001b[43m    \u001b[49m\u001b[38;5;241;43m.\u001b[39;49m\u001b[43mconfig\u001b[49m\u001b[43m(\u001b[49m\u001b[38;5;124;43m\"\u001b[39;49m\u001b[38;5;124;43mspark.driver.memory\u001b[39;49m\u001b[38;5;124;43m\"\u001b[39;49m\u001b[43m,\u001b[49m\u001b[43m \u001b[49m\u001b[38;5;124;43m\"\u001b[39;49m\u001b[38;5;124;43m8g\u001b[39;49m\u001b[38;5;124;43m\"\u001b[39;49m\u001b[43m)\u001b[49m\u001b[43m \u001b[49m\u001b[43m\\\u001b[49m\n\u001b[0;32m      8\u001b[0m \u001b[43m    \u001b[49m\u001b[38;5;241;43m.\u001b[39;49m\u001b[43mconfig\u001b[49m\u001b[43m(\u001b[49m\u001b[38;5;124;43m\"\u001b[39;49m\u001b[38;5;124;43mspark.executor.memory\u001b[39;49m\u001b[38;5;124;43m\"\u001b[39;49m\u001b[43m,\u001b[49m\u001b[43m \u001b[49m\u001b[38;5;124;43m\"\u001b[39;49m\u001b[38;5;124;43m4g\u001b[39;49m\u001b[38;5;124;43m\"\u001b[39;49m\u001b[43m)\u001b[49m\u001b[43m \u001b[49m\u001b[43m\\\u001b[49m\n\u001b[0;32m      9\u001b[0m \u001b[43m    \u001b[49m\u001b[38;5;241;43m.\u001b[39;49m\u001b[43mconfig\u001b[49m\u001b[43m(\u001b[49m\u001b[38;5;124;43m\"\u001b[39;49m\u001b[38;5;124;43mspark.driver.maxResultSize\u001b[39;49m\u001b[38;5;124;43m\"\u001b[39;49m\u001b[43m,\u001b[49m\u001b[43m \u001b[49m\u001b[38;5;124;43m\"\u001b[39;49m\u001b[38;5;124;43m2g\u001b[39;49m\u001b[38;5;124;43m\"\u001b[39;49m\u001b[43m)\u001b[49m\u001b[43m \u001b[49m\u001b[43m\\\u001b[49m\n\u001b[1;32m---> 10\u001b[0m \u001b[43m    \u001b[49m\u001b[38;5;241;43m.\u001b[39;49m\u001b[43mgetOrCreate\u001b[49m\u001b[43m(\u001b[49m\u001b[43m)\u001b[49m\n\u001b[0;32m     13\u001b[0m \u001b[38;5;66;03m# Load the JSON file\u001b[39;00m\n\u001b[0;32m     14\u001b[0m business_df \u001b[38;5;241m=\u001b[39m spark\u001b[38;5;241m.\u001b[39mread\u001b[38;5;241m.\u001b[39mjson(\u001b[38;5;124m\"\u001b[39m\u001b[38;5;124myelp_academic_dataset_business.json\u001b[39m\u001b[38;5;124m\"\u001b[39m)\n",
      "File \u001b[1;32mc:\\Users\\Vidya Sreekumar\\AppData\\Local\\Programs\\Python\\Python311\\Lib\\site-packages\\pyspark\\sql\\session.py:497\u001b[0m, in \u001b[0;36mSparkSession.Builder.getOrCreate\u001b[1;34m(self)\u001b[0m\n\u001b[0;32m    495\u001b[0m     sparkConf\u001b[38;5;241m.\u001b[39mset(key, value)\n\u001b[0;32m    496\u001b[0m \u001b[38;5;66;03m# This SparkContext may be an existing one.\u001b[39;00m\n\u001b[1;32m--> 497\u001b[0m sc \u001b[38;5;241m=\u001b[39m \u001b[43mSparkContext\u001b[49m\u001b[38;5;241;43m.\u001b[39;49m\u001b[43mgetOrCreate\u001b[49m\u001b[43m(\u001b[49m\u001b[43msparkConf\u001b[49m\u001b[43m)\u001b[49m\n\u001b[0;32m    498\u001b[0m \u001b[38;5;66;03m# Do not update `SparkConf` for existing `SparkContext`, as it's shared\u001b[39;00m\n\u001b[0;32m    499\u001b[0m \u001b[38;5;66;03m# by all sessions.\u001b[39;00m\n\u001b[0;32m    500\u001b[0m session \u001b[38;5;241m=\u001b[39m SparkSession(sc, options\u001b[38;5;241m=\u001b[39m\u001b[38;5;28mself\u001b[39m\u001b[38;5;241m.\u001b[39m_options)\n",
      "File \u001b[1;32mc:\\Users\\Vidya Sreekumar\\AppData\\Local\\Programs\\Python\\Python311\\Lib\\site-packages\\pyspark\\context.py:515\u001b[0m, in \u001b[0;36mSparkContext.getOrCreate\u001b[1;34m(cls, conf)\u001b[0m\n\u001b[0;32m    513\u001b[0m \u001b[38;5;28;01mwith\u001b[39;00m SparkContext\u001b[38;5;241m.\u001b[39m_lock:\n\u001b[0;32m    514\u001b[0m     \u001b[38;5;28;01mif\u001b[39;00m SparkContext\u001b[38;5;241m.\u001b[39m_active_spark_context \u001b[38;5;129;01mis\u001b[39;00m \u001b[38;5;28;01mNone\u001b[39;00m:\n\u001b[1;32m--> 515\u001b[0m         \u001b[43mSparkContext\u001b[49m\u001b[43m(\u001b[49m\u001b[43mconf\u001b[49m\u001b[38;5;241;43m=\u001b[39;49m\u001b[43mconf\u001b[49m\u001b[43m \u001b[49m\u001b[38;5;129;43;01mor\u001b[39;49;00m\u001b[43m \u001b[49m\u001b[43mSparkConf\u001b[49m\u001b[43m(\u001b[49m\u001b[43m)\u001b[49m\u001b[43m)\u001b[49m\n\u001b[0;32m    516\u001b[0m     \u001b[38;5;28;01massert\u001b[39;00m SparkContext\u001b[38;5;241m.\u001b[39m_active_spark_context \u001b[38;5;129;01mis\u001b[39;00m \u001b[38;5;129;01mnot\u001b[39;00m \u001b[38;5;28;01mNone\u001b[39;00m\n\u001b[0;32m    517\u001b[0m     \u001b[38;5;28;01mreturn\u001b[39;00m SparkContext\u001b[38;5;241m.\u001b[39m_active_spark_context\n",
      "File \u001b[1;32mc:\\Users\\Vidya Sreekumar\\AppData\\Local\\Programs\\Python\\Python311\\Lib\\site-packages\\pyspark\\context.py:201\u001b[0m, in \u001b[0;36mSparkContext.__init__\u001b[1;34m(self, master, appName, sparkHome, pyFiles, environment, batchSize, serializer, conf, gateway, jsc, profiler_cls, udf_profiler_cls, memory_profiler_cls)\u001b[0m\n\u001b[0;32m    195\u001b[0m \u001b[38;5;28;01mif\u001b[39;00m gateway \u001b[38;5;129;01mis\u001b[39;00m \u001b[38;5;129;01mnot\u001b[39;00m \u001b[38;5;28;01mNone\u001b[39;00m \u001b[38;5;129;01mand\u001b[39;00m gateway\u001b[38;5;241m.\u001b[39mgateway_parameters\u001b[38;5;241m.\u001b[39mauth_token \u001b[38;5;129;01mis\u001b[39;00m \u001b[38;5;28;01mNone\u001b[39;00m:\n\u001b[0;32m    196\u001b[0m     \u001b[38;5;28;01mraise\u001b[39;00m \u001b[38;5;167;01mValueError\u001b[39;00m(\n\u001b[0;32m    197\u001b[0m         \u001b[38;5;124m\"\u001b[39m\u001b[38;5;124mYou are trying to pass an insecure Py4j gateway to Spark. This\u001b[39m\u001b[38;5;124m\"\u001b[39m\n\u001b[0;32m    198\u001b[0m         \u001b[38;5;124m\"\u001b[39m\u001b[38;5;124m is not allowed as it is a security risk.\u001b[39m\u001b[38;5;124m\"\u001b[39m\n\u001b[0;32m    199\u001b[0m     )\n\u001b[1;32m--> 201\u001b[0m \u001b[43mSparkContext\u001b[49m\u001b[38;5;241;43m.\u001b[39;49m\u001b[43m_ensure_initialized\u001b[49m\u001b[43m(\u001b[49m\u001b[38;5;28;43mself\u001b[39;49m\u001b[43m,\u001b[49m\u001b[43m \u001b[49m\u001b[43mgateway\u001b[49m\u001b[38;5;241;43m=\u001b[39;49m\u001b[43mgateway\u001b[49m\u001b[43m,\u001b[49m\u001b[43m \u001b[49m\u001b[43mconf\u001b[49m\u001b[38;5;241;43m=\u001b[39;49m\u001b[43mconf\u001b[49m\u001b[43m)\u001b[49m\n\u001b[0;32m    202\u001b[0m \u001b[38;5;28;01mtry\u001b[39;00m:\n\u001b[0;32m    203\u001b[0m     \u001b[38;5;28mself\u001b[39m\u001b[38;5;241m.\u001b[39m_do_init(\n\u001b[0;32m    204\u001b[0m         master,\n\u001b[0;32m    205\u001b[0m         appName,\n\u001b[1;32m   (...)\u001b[0m\n\u001b[0;32m    215\u001b[0m         memory_profiler_cls,\n\u001b[0;32m    216\u001b[0m     )\n",
      "File \u001b[1;32mc:\\Users\\Vidya Sreekumar\\AppData\\Local\\Programs\\Python\\Python311\\Lib\\site-packages\\pyspark\\context.py:436\u001b[0m, in \u001b[0;36mSparkContext._ensure_initialized\u001b[1;34m(cls, instance, gateway, conf)\u001b[0m\n\u001b[0;32m    434\u001b[0m \u001b[38;5;28;01mwith\u001b[39;00m SparkContext\u001b[38;5;241m.\u001b[39m_lock:\n\u001b[0;32m    435\u001b[0m     \u001b[38;5;28;01mif\u001b[39;00m \u001b[38;5;129;01mnot\u001b[39;00m SparkContext\u001b[38;5;241m.\u001b[39m_gateway:\n\u001b[1;32m--> 436\u001b[0m         SparkContext\u001b[38;5;241m.\u001b[39m_gateway \u001b[38;5;241m=\u001b[39m gateway \u001b[38;5;129;01mor\u001b[39;00m \u001b[43mlaunch_gateway\u001b[49m\u001b[43m(\u001b[49m\u001b[43mconf\u001b[49m\u001b[43m)\u001b[49m\n\u001b[0;32m    437\u001b[0m         SparkContext\u001b[38;5;241m.\u001b[39m_jvm \u001b[38;5;241m=\u001b[39m SparkContext\u001b[38;5;241m.\u001b[39m_gateway\u001b[38;5;241m.\u001b[39mjvm\n\u001b[0;32m    439\u001b[0m     \u001b[38;5;28;01mif\u001b[39;00m instance:\n",
      "File \u001b[1;32mc:\\Users\\Vidya Sreekumar\\AppData\\Local\\Programs\\Python\\Python311\\Lib\\site-packages\\pyspark\\java_gateway.py:104\u001b[0m, in \u001b[0;36mlaunch_gateway\u001b[1;34m(conf, popen_kwargs)\u001b[0m\n\u001b[0;32m    102\u001b[0m \u001b[38;5;66;03m# Wait for the file to appear, or for the process to exit, whichever happens first.\u001b[39;00m\n\u001b[0;32m    103\u001b[0m \u001b[38;5;28;01mwhile\u001b[39;00m \u001b[38;5;129;01mnot\u001b[39;00m proc\u001b[38;5;241m.\u001b[39mpoll() \u001b[38;5;129;01mand\u001b[39;00m \u001b[38;5;129;01mnot\u001b[39;00m os\u001b[38;5;241m.\u001b[39mpath\u001b[38;5;241m.\u001b[39misfile(conn_info_file):\n\u001b[1;32m--> 104\u001b[0m     \u001b[43mtime\u001b[49m\u001b[38;5;241;43m.\u001b[39;49m\u001b[43msleep\u001b[49m\u001b[43m(\u001b[49m\u001b[38;5;241;43m0.1\u001b[39;49m\u001b[43m)\u001b[49m\n\u001b[0;32m    106\u001b[0m \u001b[38;5;28;01mif\u001b[39;00m \u001b[38;5;129;01mnot\u001b[39;00m os\u001b[38;5;241m.\u001b[39mpath\u001b[38;5;241m.\u001b[39misfile(conn_info_file):\n\u001b[0;32m    107\u001b[0m     \u001b[38;5;28;01mraise\u001b[39;00m PySparkRuntimeError(\n\u001b[0;32m    108\u001b[0m         error_class\u001b[38;5;241m=\u001b[39m\u001b[38;5;124m\"\u001b[39m\u001b[38;5;124mJAVA_GATEWAY_EXITED\u001b[39m\u001b[38;5;124m\"\u001b[39m,\n\u001b[0;32m    109\u001b[0m         message_parameters\u001b[38;5;241m=\u001b[39m{},\n\u001b[0;32m    110\u001b[0m     )\n",
      "\u001b[1;31mKeyboardInterrupt\u001b[0m: "
     ]
    }
   ],
   "source": [
    "from pyspark.sql import SparkSession\n",
    "\n",
    "# Initialize Spark session with proper memory settings\n",
    "spark = SparkSession.builder \\\n",
    "    .appName(\"Local VADER Sentiment Analysis\") \\\n",
    "    .master(\"local[*]\") \\\n",
    "    .config(\"spark.driver.memory\", \"8g\") \\\n",
    "    .config(\"spark.executor.memory\", \"4g\") \\\n",
    "    .config(\"spark.driver.maxResultSize\", \"2g\") \\\n",
    "    .getOrCreate()\n",
    "\n",
    "\n",
    "# Load the JSON file\n",
    "business_df = spark.read.json(\"yelp_academic_dataset_business.json\")"
   ]
  },
  {
   "cell_type": "code",
   "execution_count": 2,
   "metadata": {},
   "outputs": [
    {
     "data": {
      "text/plain": [
       "150346"
      ]
     },
     "execution_count": 2,
     "metadata": {},
     "output_type": "execute_result"
    }
   ],
   "source": [
    "business_df.count()"
   ]
  },
  {
   "cell_type": "code",
   "execution_count": 3,
   "metadata": {},
   "outputs": [
    {
     "name": "stdout",
     "output_type": "stream",
     "text": [
      "+------------------------------------------+------------------------------------------------------------------------------------------------------------------------------------------------------------------------------------------------------------------------------------------------------------------------------------------------------------------------------------------------------------------------------------------------------------------------------------------------------------------------------------------------------------------------------------------------------------------------------------------------------------+----------------------+----------------------------------------------------------------------------------------------------------+--------------+------------------------------------------------------------------------------------+-------+-------------+--------------+------------------------+-----------+------------+-----+-----+\n",
      "|address                                   |attributes                                                                                                                                                                                                                                                                                                                                                                                                                                                                                                                                                                                                  |business_id           |categories                                                                                                |city          |hours                                                                               |is_open|latitude     |longitude     |name                    |postal_code|review_count|stars|state|\n",
      "+------------------------------------------+------------------------------------------------------------------------------------------------------------------------------------------------------------------------------------------------------------------------------------------------------------------------------------------------------------------------------------------------------------------------------------------------------------------------------------------------------------------------------------------------------------------------------------------------------------------------------------------------------------+----------------------+----------------------------------------------------------------------------------------------------------+--------------+------------------------------------------------------------------------------------+-------+-------------+--------------+------------------------+-----------+------------+-----+-----+\n",
      "|1616 Chapala St, Ste 2                    |{NULL, NULL, NULL, NULL, NULL, NULL, NULL, NULL, NULL, NULL, NULL, True, NULL, NULL, NULL, NULL, NULL, NULL, NULL, NULL, NULL, NULL, NULL, NULL, NULL, NULL, NULL, NULL, NULL, NULL, NULL, NULL, NULL, NULL, NULL, NULL, NULL, NULL, NULL}                                                                                                                                                                                                                                                                                                                                                                  |Pns2l4eNsfO8kk83dixA6A|Doctors, Traditional Chinese Medicine, Naturopathic/Holistic, Acupuncture, Health & Medical, Nutritionists|Santa Barbara |NULL                                                                                |0      |34.4266787   |-119.7111968  |Abby Rappoport, LAC, CMQ|93101      |7           |5.0  |CA   |\n",
      "|87 Grasso Plaza Shopping Center           |{NULL, NULL, NULL, NULL, NULL, NULL, NULL, NULL, NULL, True, NULL, NULL, NULL, NULL, NULL, NULL, NULL, NULL, NULL, NULL, NULL, NULL, NULL, NULL, NULL, NULL, NULL, NULL, NULL, NULL, NULL, NULL, NULL, NULL, NULL, NULL, NULL, NULL, NULL}                                                                                                                                                                                                                                                                                                                                                                  |mpf3x-BjTdTEA3yCZrAYPw|Shipping Centers, Local Services, Notaries, Mailbox Centers, Printing Services                            |Affton        |{8:0-18:30, 0:0-0:0, 8:0-14:0, NULL, 8:0-18:30, 8:0-18:30, 8:0-18:30}               |1      |38.551126    |-90.335695    |The UPS Store           |63123      |15          |3.0  |MO   |\n",
      "|5255 E Broadway Blvd                      |{NULL, NULL, NULL, NULL, NULL, NULL, NULL, True, NULL, True, {'garage': False, 'street': False, 'validated': False, 'lot': True, 'valet': False}, False, False, False, NULL, NULL, False, NULL, NULL, NULL, NULL, NULL, False, False, NULL, NULL, NULL, False, NULL, NULL, False, NULL, 2, False, NULL, False, NULL, True, u'no'}                                                                                                                                                                                                                                                                           |tUFrWirKiKi_TAnsVWINQQ|Department Stores, Shopping, Fashion, Home & Garden, Electronics, Furniture Stores                        |Tucson        |{8:0-23:0, 8:0-22:0, 8:0-23:0, 8:0-22:0, 8:0-22:0, 8:0-22:0, 8:0-22:0}              |0      |32.223236    |-110.880452   |Target                  |85711      |22          |3.5  |AZ   |\n",
      "|935 Race St                               |{NULL, NULL, u'none', NULL, NULL, NULL, NULL, True, NULL, False, {'garage': False, 'street': True, 'validated': False, 'lot': False, 'valet': False}, False, True, NULL, NULL, NULL, NULL, NULL, NULL, NULL, NULL, NULL, NULL, NULL, NULL, NULL, NULL, False, NULL, NULL, False, NULL, 1, NULL, NULL, True, NULL, NULL, u'free'}                                                                                                                                                                                                                                                                            |MTSW4McQd7CbVtyjqoe9mw|Restaurants, Food, Bubble Tea, Coffee & Tea, Bakeries                                                     |Philadelphia  |{7:0-21:0, 7:0-20:0, 7:0-21:0, 7:0-21:0, 7:0-20:0, 7:0-20:0, 7:0-20:0}              |1      |39.9555052   |-75.1555641   |St Honore Pastries      |19107      |80          |4.0  |PA   |\n",
      "|101 Walnut St                             |{NULL, NULL, NULL, NULL, NULL, NULL, NULL, True, NULL, True, {'garage': None, 'street': None, 'validated': None, 'lot': True, 'valet': False}, NULL, False, NULL, NULL, NULL, NULL, NULL, NULL, True, NULL, NULL, NULL, NULL, NULL, NULL, NULL, NULL, NULL, NULL, NULL, NULL, NULL, NULL, NULL, True, NULL, True, NULL}                                                                                                                                                                                                                                                                                     |mWMc6_wTdE0EUBKIGXDVfA|Brewpubs, Breweries, Food                                                                                 |Green Lane    |{12:0-22:0, NULL, 12:0-22:0, 12:0-18:0, 16:0-22:0, NULL, 14:0-22:0}                 |1      |40.3381827   |-75.4716585   |Perkiomen Valley Brewery|18054      |13          |4.5  |PA   |\n",
      "|615 S Main St                             |{NULL, NULL, u'none', None, NULL, NULL, NULL, False, NULL, True, None, False, False, False, NULL, NULL, False, True, NULL, True, NULL, NULL, False, True, NULL, NULL, NULL, True, u'casual', NULL, True, True, 1, False, False, True, NULL, True, u'no'}                                                                                                                                                                                                                                                                                                                                                    |CF33F8-E6oudUQ46HnavjQ|Burgers, Fast Food, Sandwiches, Food, Ice Cream & Frozen Yogurt, Restaurants                              |Ashland City  |{9:0-0:0, 0:0-0:0, 9:0-22:0, 8:0-22:0, 6:0-22:0, 6:0-22:0, 6:0-22:0}                |1      |36.269593    |-87.058943    |Sonic Drive-In          |37015      |6           |2.0  |TN   |\n",
      "|8522 Eager Road, Dierbergs Brentwood Point|{NULL, NULL, NULL, NULL, NULL, NULL, NULL, True, NULL, True, {'garage': False, 'street': False, 'validated': False, 'lot': True, 'valet': False}, NULL, NULL, NULL, NULL, NULL, NULL, NULL, NULL, NULL, NULL, NULL, NULL, NULL, NULL, NULL, NULL, NULL, NULL, NULL, NULL, NULL, 2, NULL, NULL, NULL, NULL, NULL, NULL}                                                                                                                                                                                                                                                                                      |n_0UpQx1hsNbnPUSlodU8w|Sporting Goods, Fashion, Shoe Stores, Shopping, Sports Wear, Accessories                                  |Brentwood     |{10:0-18:0, 0:0-0:0, 10:0-18:0, 12:0-18:0, 10:0-18:0, 10:0-18:0, 10:0-18:0}         |1      |38.627695    |-90.340465    |Famous Footwear         |63144      |13          |2.5  |MO   |\n",
      "|400 Pasadena Ave S                        |NULL                                                                                                                                                                                                                                                                                                                                                                                                                                                                                                                                                                                                        |qkRM_2X51Yqxk3btlwAQIg|Synagogues, Religious Organizations                                                                       |St. Petersburg|{9:0-17:0, 9:0-17:0, NULL, NULL, 9:0-17:0, 9:0-17:0, 9:0-17:0}                      |1      |27.76659     |-82.732983    |Temple Beth-El          |33707      |5           |3.5  |FL   |\n",
      "|8025 Mackenzie Rd                         |{NULL, NULL, u'full_bar', {'romantic': False, 'intimate': False, 'touristy': False, 'hipster': False, 'divey': False, 'classy': False, 'trendy': False, 'upscale': False, 'casual': False}, NULL, NULL, NULL, NULL, NULL, True, {'garage': False, 'street': False, 'validated': False, 'lot': True, 'valet': False}, NULL, True, NULL, NULL, NULL, NULL, NULL, NULL, True, NULL, NULL, NULL, True, NULL, u'average', NULL, True, u'casual', NULL, False, True, 1, False, NULL, True, NULL, NULL, u'free'}                                                                                                   |k0hlBqXX-Bt0vf1op7Jr1w|Pubs, Restaurants, Italian, Bars, American (Traditional), Nightlife, Greek                                |Affton        |NULL                                                                                |0      |38.5651648   |-90.3210868   |Tsevi's Pub And Grill   |63123      |19          |3.0  |MO   |\n",
      "|2312 Dickerson Pike                       |{NULL, NULL, u'none', NULL, NULL, NULL, NULL, NULL, NULL, True, {'garage': False, 'street': False, 'validated': False, 'lot': False, 'valet': False}, False, False, False, NULL, NULL, False, True, NULL, True, NULL, NULL, False, True, NULL, NULL, NULL, True, 'casual', NULL, True, False, 1, False, False, True, NULL, True, u'no'}                                                                                                                                                                                                                                                                     |bBDDEgkFA1Otx9Lfe7BZUQ|Ice Cream & Frozen Yogurt, Fast Food, Burgers, Restaurants, Food                                          |Nashville     |{6:0-16:0, 0:0-0:0, 6:0-17:0, 6:0-21:0, 6:0-16:0, 6:0-21:0, 6:0-21:0}               |1      |36.2081024   |-86.7681696   |Sonic Drive-In          |37207      |10          |1.5  |TN   |\n",
      "|21705 Village Lakes Sc Dr                 |{NULL, NULL, NULL, NULL, NULL, NULL, NULL, True, NULL, True, {'garage': False, 'street': False, 'validated': False, 'lot': False, 'valet': False}, NULL, NULL, NULL, NULL, NULL, NULL, NULL, NULL, NULL, NULL, NULL, NULL, NULL, NULL, NULL, NULL, NULL, NULL, NULL, NULL, NULL, 2, NULL, NULL, NULL, NULL, NULL, NULL}                                                                                                                                                                                                                                                                                     |UJsufbvfyfONHeWdvAHKjA|Department Stores, Shopping, Fashion                                                                      |Land O' Lakes |{9:30-21:30, 9:30-21:30, 9:30-21:30, 10:0-20:0, 9:30-21:30, 9:30-21:30, 9:30-21:30} |1      |28.1904587953|-82.4573802199|Marshalls               |34639      |6           |3.5  |FL   |\n",
      "|                                          |{NULL, NULL, 'none', {'touristy': False, 'hipster': False, 'romantic': False, 'divey': False, 'intimate': False, 'trendy': False, 'upscale': False, 'classy': False, 'casual': False}, NULL, NULL, NULL, NULL, NULL, NULL, {'garage': False, 'street': False, 'validated': False, 'lot': False, 'valet': False}, NULL, NULL, NULL, NULL, NULL, NULL, NULL, NULL, NULL, {'dessert': False, 'latenight': False, 'lunch': False, 'dinner': False, 'brunch': False, 'breakfast': False}, NULL, NULL, NULL, NULL, NULL, NULL, None, NULL, NULL, NULL, NULL, NULL, False, NULL, NULL, NULL, NULL, NULL}           |eEOYSgkmpB90uNA7lDOMRA|Vietnamese, Food, Restaurants, Food Trucks                                                                |Tampa Bay     |{11:0-14:0, 11:0-14:0, 5:0-10:0, 15:0-18:0, 11:0-14:0, 11:0-14:0, 11:0-14:0}        |1      |27.9552692   |-82.4563199   |Vietnamese Food Truck   |33602      |10          |4.0  |FL   |\n",
      "|8901 US 31 S                              |{NULL, NULL, 'none', {'touristy': None, 'hipster': None, 'romantic': False, 'divey': None, 'intimate': None, 'trendy': None, 'upscale': None, 'classy': None, 'casual': True}, NULL, NULL, NULL, False, NULL, True, {'garage': None, 'street': False, 'validated': None, 'lot': True, 'valet': False}, NULL, NULL, NULL, NULL, NULL, NULL, NULL, NULL, True, {'dessert': False, 'latenight': False, 'lunch': False, 'dinner': False, 'brunch': False, 'breakfast': False}, NULL, NULL, True, NULL, NULL, NULL, False, 'casual', NULL, True, True, 1, False, NULL, True, NULL, NULL, u'no'}                  |il_Ro8jwPlHresjw9EGmBg|American (Traditional), Restaurants, Diners, Breakfast & Brunch                                           |Indianapolis  |{6:0-22:0, 6:0-22:0, 6:0-22:0, 6:0-22:0, 6:0-22:0, 6:0-22:0, 6:0-22:0}              |1      |39.6371332838|-86.127217412 |Denny's                 |46227      |28          |2.5  |IN   |\n",
      "|15 N Missouri Ave                         |{NULL, NULL, NULL, NULL, NULL, NULL, NULL, NULL, NULL, NULL, NULL, True, NULL, NULL, NULL, NULL, NULL, NULL, NULL, NULL, NULL, NULL, NULL, NULL, NULL, NULL, NULL, NULL, NULL, NULL, NULL, NULL, NULL, NULL, NULL, NULL, NULL, NULL, NULL}                                                                                                                                                                                                                                                                                                                                                                  |jaxMSoInw8Poo3XeMJt8lQ|General Dentistry, Dentists, Health & Medical, Cosmetic Dentists                                          |Clearwater    |{NULL, 7:30-15:30, NULL, NULL, 7:30-15:30, 7:30-15:30, 7:30-15:30}                  |1      |27.966235    |-82.787412    |Adams Dental            |33755      |10          |5.0  |FL   |\n",
      "|2575 E Bay Dr                             |{NULL, NULL, u'none', {'romantic': False, 'intimate': False, 'touristy': False, 'hipster': False, 'divey': False, 'classy': False, 'trendy': False, 'upscale': False, 'casual': True}, NULL, NULL, NULL, True, False, True, {'garage': False, 'street': False, 'validated': False, 'lot': True, 'valet': False}, NULL, True, NULL, NULL, NULL, NULL, NULL, NULL, True, {'dessert': False, 'latenight': False, 'lunch': True, 'dinner': False, 'brunch': False, 'breakfast': False}, NULL, NULL, True, NULL, u'average', NULL, False, u'casual', NULL, True, False, 1, False, False, True, NULL, True, u'no'}|0bPLkL0QhhPO5kt1_EXmNQ|Food, Delis, Italian, Bakeries, Restaurants                                                               |Largo         |{10:0-20:0, 10:0-18:0, 10:0-20:0, NULL, 10:0-20:0, 10:0-20:0, 10:0-20:0}            |0      |27.9161159   |-82.7604608   |Zio's Italian Market    |33771      |100         |4.5  |FL   |\n",
      "|205 Race St                               |{NULL, NULL, 'full_bar', {'touristy': False, 'hipster': False, 'romantic': False, 'divey': False, 'intimate': False, 'trendy': False, 'upscale': False, 'classy': True, 'casual': False}, NULL, NULL, NULL, NULL, NULL, True, {u'valet': False, u'garage': None, u'street': True, u'lot': False, u'validated': None}, NULL, NULL, NULL, NULL, NULL, False, NULL, NULL, False, {'dessert': True, 'latenight': None, 'lunch': None, 'dinner': True, 'brunch': None, 'breakfast': None}, NULL, True, False, NULL, u'average', NULL, True, 'casual', NULL, True, True, 2, True, True, True, NULL, True, 'free'} |MUTTqe8uqyMdBl186RmNeA|Sushi Bars, Restaurants, Japanese                                                                         |Philadelphia  |{13:30-23:0, NULL, 13:30-23:0, 13:30-22:0, 13:30-22:0, 13:30-22:0, 13:30-22:0}      |1      |39.953949    |-75.1432262   |Tuna Bar                |19106      |245         |4.0  |PA   |\n",
      "|625 N Stone Ave                           |{NULL, NULL, NULL, NULL, NULL, NULL, NULL, NULL, NULL, True, NULL, False, NULL, NULL, NULL, NULL, NULL, False, NULL, NULL, NULL, NULL, NULL, NULL, NULL, NULL, NULL, NULL, NULL, NULL, NULL, NULL, NULL, NULL, NULL, NULL, NULL, NULL, u'free'}                                                                                                                                                                                                                                                                                                                                                             |rBmpy_Y1UbBx8ggHlyb7hA|Automotive, Auto Parts & Supplies, Auto Customization                                                     |Tucson        |{8:0-17:0, 0:0-0:0, 8:0-14:0, 0:0-0:0, 8:0-17:0, 8:0-17:0, 8:0-17:0}                |1      |32.2298719   |-110.9723419  |Arizona Truck Outfitters|85705      |10          |4.5  |AZ   |\n",
      "|712 Adams St                              |{NULL, NULL, NULL, NULL, NULL, NULL, NULL, True, NULL, True, {'garage': False, 'street': True, 'validated': False, 'lot': False, 'valet': False}, NULL, NULL, NULL, NULL, NULL, NULL, NULL, NULL, NULL, NULL, NULL, NULL, NULL, NULL, NULL, NULL, NULL, NULL, NULL, NULL, NULL, 2, NULL, NULL, NULL, NULL, NULL, NULL}                                                                                                                                                                                                                                                                                      |M0XSSHqrASOnhgbWDJIpQA|Vape Shops, Tobacco Shops, Personal Shopping, Vitamins & Supplements, Shopping                            |New Orleans   |{10:0-19:0, 10:0-19:0, 10:0-19:0, 10:0-19:0, 10:0-19:0, 10:0-19:0, 10:0-19:0}       |1      |29.9414679565|-90.129952757 |Herb Import Co          |70118      |5           |4.0  |LA   |\n",
      "|1241 Airline Dr                           |NULL                                                                                                                                                                                                                                                                                                                                                                                                                                                                                                                                                                                                        |8wGISYjYkE2tSqn3cDMu8A|Automotive, Car Rental, Hotels & Travel, Truck Rental                                                     |Kenner        |{8:0-17:0, 8:0-17:0, 9:0-15:0, 9:0-12:0, 8:0-17:0, 8:0-17:0, 8:0-17:0}              |1      |29.981183    |-90.2540123   |Nifty Car Rental        |70062      |14          |3.5  |LA   |\n",
      "|1224 South St                             |{NULL, NULL, u'none', {'touristy': False, 'hipster': False, 'romantic': False, 'divey': False, 'intimate': None, 'trendy': False, 'upscale': False, 'classy': False, 'casual': True}, NULL, NULL, NULL, True, NULL, True, {'garage': False, 'street': True, 'validated': False, 'lot': False, 'valet': False}, NULL, True, NULL, NULL, NULL, NULL, NULL, NULL, True, {'dessert': False, 'latenight': False, 'lunch': True, 'dinner': True, 'brunch': False, 'breakfast': False}, NULL, NULL, True, NULL, u'quiet', NULL, None, u'casual', NULL, None, False, 1, False, True, True, NULL, NULL, u'no'}       |ROeacJQwBeh05Rqg7F6TCg|Korean, Restaurants                                                                                       |Philadelphia  |{11:30-20:30, 11:30-20:30, 11:30-20:30, NULL, 11:30-20:30, 11:30-20:30, 11:30-20:30}|1      |39.943223    |-75.162568    |BAP                     |19147      |205         |4.5  |PA   |\n",
      "+------------------------------------------+------------------------------------------------------------------------------------------------------------------------------------------------------------------------------------------------------------------------------------------------------------------------------------------------------------------------------------------------------------------------------------------------------------------------------------------------------------------------------------------------------------------------------------------------------------------------------------------------------------+----------------------+----------------------------------------------------------------------------------------------------------+--------------+------------------------------------------------------------------------------------+-------+-------------+--------------+------------------------+-----------+------------+-----+-----+\n",
      "only showing top 20 rows\n",
      "\n"
     ]
    }
   ],
   "source": [
    "business_df.show(truncate=False)"
   ]
  },
  {
   "cell_type": "code",
   "execution_count": 4,
   "metadata": {},
   "outputs": [],
   "source": [
    "usa_state_codes = [\n",
    "    'AL', 'AK', 'AZ', 'AR', 'CA', \n",
    "    'CO', 'CT', 'DE', 'FL', 'GA', \n",
    "    'HI', 'ID', 'IL', 'IN', 'IA', \n",
    "    'KS', 'KY', 'LA', 'ME', 'MD', \n",
    "    'MA', 'MI', 'MN', 'MS', 'MO', \n",
    "    'MT', 'NE', 'NV', 'NH', 'NJ', \n",
    "    'NM', 'NY', 'NC', 'ND', 'OH', \n",
    "    'OK', 'OR', 'PA', 'RI', 'SC', \n",
    "    'SD', 'TN', 'TX', 'UT', 'VT', \n",
    "    'VA', 'WA', 'WV', 'WI', 'WY'\n",
    "]"
   ]
  },
  {
   "cell_type": "code",
   "execution_count": 5,
   "metadata": {},
   "outputs": [],
   "source": [
    "from pyspark.sql.functions import col\n",
    "filtered_df = business_df.filter(col(\"state\").isin(usa_state_codes))"
   ]
  },
  {
   "cell_type": "code",
   "execution_count": 6,
   "metadata": {},
   "outputs": [
    {
     "data": {
      "text/plain": [
       "144771"
      ]
     },
     "execution_count": 6,
     "metadata": {},
     "output_type": "execute_result"
    }
   ],
   "source": [
    "filtered_df.count()"
   ]
  },
  {
   "cell_type": "code",
   "execution_count": 7,
   "metadata": {},
   "outputs": [
    {
     "name": "stdout",
     "output_type": "stream",
     "text": [
      "+--------------------+--------------------+--------------------+--------------------+--------------+--------------------+-------+-------------+--------------+--------------------+-----------+------------+-----+-----+\n",
      "|             address|          attributes|         business_id|          categories|          city|               hours|is_open|     latitude|     longitude|                name|postal_code|review_count|stars|state|\n",
      "+--------------------+--------------------+--------------------+--------------------+--------------+--------------------+-------+-------------+--------------+--------------------+-----------+------------+-----+-----+\n",
      "|1616 Chapala St, ...|{NULL, NULL, NULL...|Pns2l4eNsfO8kk83d...|Doctors, Traditio...| Santa Barbara|                NULL|      0|   34.4266787|  -119.7111968|Abby Rappoport, L...|      93101|           7|  5.0|   CA|\n",
      "|87 Grasso Plaza S...|{NULL, NULL, NULL...|mpf3x-BjTdTEA3yCZ...|Shipping Centers,...|        Affton|{8:0-18:30, 0:0-0...|      1|    38.551126|    -90.335695|       The UPS Store|      63123|          15|  3.0|   MO|\n",
      "|5255 E Broadway Blvd|{NULL, NULL, NULL...|tUFrWirKiKi_TAnsV...|Department Stores...|        Tucson|{8:0-23:0, 8:0-22...|      0|    32.223236|   -110.880452|              Target|      85711|          22|  3.5|   AZ|\n",
      "|         935 Race St|{NULL, NULL, u'no...|MTSW4McQd7CbVtyjq...|Restaurants, Food...|  Philadelphia|{7:0-21:0, 7:0-20...|      1|   39.9555052|   -75.1555641|  St Honore Pastries|      19107|          80|  4.0|   PA|\n",
      "|       101 Walnut St|{NULL, NULL, NULL...|mWMc6_wTdE0EUBKIG...|Brewpubs, Breweri...|    Green Lane|{12:0-22:0, NULL,...|      1|   40.3381827|   -75.4716585|Perkiomen Valley ...|      18054|          13|  4.5|   PA|\n",
      "|       615 S Main St|{NULL, NULL, u'no...|CF33F8-E6oudUQ46H...|Burgers, Fast Foo...|  Ashland City|{9:0-0:0, 0:0-0:0...|      1|    36.269593|    -87.058943|      Sonic Drive-In|      37015|           6|  2.0|   TN|\n",
      "|8522 Eager Road, ...|{NULL, NULL, NULL...|n_0UpQx1hsNbnPUSl...|Sporting Goods, F...|     Brentwood|{10:0-18:0, 0:0-0...|      1|    38.627695|    -90.340465|     Famous Footwear|      63144|          13|  2.5|   MO|\n",
      "|  400 Pasadena Ave S|                NULL|qkRM_2X51Yqxk3btl...|Synagogues, Relig...|St. Petersburg|{9:0-17:0, 9:0-17...|      1|     27.76659|    -82.732983|      Temple Beth-El|      33707|           5|  3.5|   FL|\n",
      "|   8025 Mackenzie Rd|{NULL, NULL, u'fu...|k0hlBqXX-Bt0vf1op...|Pubs, Restaurants...|        Affton|                NULL|      0|   38.5651648|   -90.3210868|Tsevi's Pub And G...|      63123|          19|  3.0|   MO|\n",
      "| 2312 Dickerson Pike|{NULL, NULL, u'no...|bBDDEgkFA1Otx9Lfe...|Ice Cream & Froze...|     Nashville|{6:0-16:0, 0:0-0:...|      1|   36.2081024|   -86.7681696|      Sonic Drive-In|      37207|          10|  1.5|   TN|\n",
      "|21705 Village Lak...|{NULL, NULL, NULL...|UJsufbvfyfONHeWdv...|Department Stores...| Land O' Lakes|{9:30-21:30, 9:30...|      1|28.1904587953|-82.4573802199|           Marshalls|      34639|           6|  3.5|   FL|\n",
      "|                    |{NULL, NULL, 'non...|eEOYSgkmpB90uNA7l...|Vietnamese, Food,...|     Tampa Bay|{11:0-14:0, 11:0-...|      1|   27.9552692|   -82.4563199|Vietnamese Food T...|      33602|          10|  4.0|   FL|\n",
      "|        8901 US 31 S|{NULL, NULL, 'non...|il_Ro8jwPlHresjw9...|American (Traditi...|  Indianapolis|{6:0-22:0, 6:0-22...|      1|39.6371332838| -86.127217412|             Denny's|      46227|          28|  2.5|   IN|\n",
      "|   15 N Missouri Ave|{NULL, NULL, NULL...|jaxMSoInw8Poo3XeM...|General Dentistry...|    Clearwater|{NULL, 7:30-15:30...|      1|    27.966235|    -82.787412|        Adams Dental|      33755|          10|  5.0|   FL|\n",
      "|       2575 E Bay Dr|{NULL, NULL, u'no...|0bPLkL0QhhPO5kt1_...|Food, Delis, Ital...|         Largo|{10:0-20:0, 10:0-...|      0|   27.9161159|   -82.7604608|Zio's Italian Market|      33771|         100|  4.5|   FL|\n",
      "|         205 Race St|{NULL, NULL, 'ful...|MUTTqe8uqyMdBl186...|Sushi Bars, Resta...|  Philadelphia|{13:30-23:0, NULL...|      1|    39.953949|   -75.1432262|            Tuna Bar|      19106|         245|  4.0|   PA|\n",
      "|     625 N Stone Ave|{NULL, NULL, NULL...|rBmpy_Y1UbBx8ggHl...|Automotive, Auto ...|        Tucson|{8:0-17:0, 0:0-0:...|      1|   32.2298719|  -110.9723419|Arizona Truck Out...|      85705|          10|  4.5|   AZ|\n",
      "|        712 Adams St|{NULL, NULL, NULL...|M0XSSHqrASOnhgbWD...|Vape Shops, Tobac...|   New Orleans|{10:0-19:0, 10:0-...|      1|29.9414679565| -90.129952757|      Herb Import Co|      70118|           5|  4.0|   LA|\n",
      "|     1241 Airline Dr|                NULL|8wGISYjYkE2tSqn3c...|Automotive, Car R...|        Kenner|{8:0-17:0, 8:0-17...|      1|    29.981183|   -90.2540123|    Nifty Car Rental|      70062|          14|  3.5|   LA|\n",
      "|       1224 South St|{NULL, NULL, u'no...|ROeacJQwBeh05Rqg7...| Korean, Restaurants|  Philadelphia|{11:30-20:30, 11:...|      1|    39.943223|    -75.162568|                 BAP|      19147|         205|  4.5|   PA|\n",
      "+--------------------+--------------------+--------------------+--------------------+--------------+--------------------+-------+-------------+--------------+--------------------+-----------+------------+-----+-----+\n",
      "only showing top 20 rows\n",
      "\n"
     ]
    }
   ],
   "source": [
    "filtered_df.show()"
   ]
  },
  {
   "cell_type": "code",
   "execution_count": 8,
   "metadata": {},
   "outputs": [],
   "source": [
    "reviews_df=spark.read.json(\"yelp_academic_dataset_review.json\")"
   ]
  },
  {
   "cell_type": "code",
   "execution_count": 9,
   "metadata": {},
   "outputs": [
    {
     "data": {
      "text/plain": [
       "6990280"
      ]
     },
     "execution_count": 9,
     "metadata": {},
     "output_type": "execute_result"
    }
   ],
   "source": [
    "reviews_df.count()"
   ]
  },
  {
   "cell_type": "code",
   "execution_count": 10,
   "metadata": {},
   "outputs": [
    {
     "name": "stdout",
     "output_type": "stream",
     "text": [
      "+--------------------+----+-------------------+-----+--------------------+-----+--------------------+------+--------------------+\n",
      "|         business_id|cool|               date|funny|           review_id|stars|                text|useful|             user_id|\n",
      "+--------------------+----+-------------------+-----+--------------------+-----+--------------------+------+--------------------+\n",
      "|XQfwVwDr-v0ZS3_Cb...|   0|2018-07-07 22:09:11|    0|KU_O5udG6zpxOg-Vc...|  3.0|If you decide to ...|     0|mh_-eMZ6K5RLWhZyI...|\n",
      "|7ATYjTIgM3jUlt4UM...|   1|2012-01-03 15:28:18|    0|BiTunyQ73aT9WBnpR...|  5.0|I've taken a lot ...|     1|OyoGAe7OKpv6SyGZT...|\n",
      "|YjUWPpI6HXG530lwP...|   0|2014-02-05 20:30:30|    0|saUsX_uimxRlCVr67...|  3.0|Family diner. Had...|     0|8g_iMtfSiwikVnbP2...|\n",
      "|kxX2SOes4o-D3ZQBk...|   1|2015-01-04 00:01:03|    0|AqPFMleE6RsU23_au...|  5.0|Wow!  Yummy, diff...|     1|_7bHUi9Uuf5__HHc_...|\n",
      "|e4Vwtrqf-wpJfwesg...|   1|2017-01-14 20:54:15|    0|Sx8TMOWLNuJBWer-0...|  4.0|Cute interior and...|     1|bcjbaE6dDog4jkNY9...|\n",
      "|04UD14gamNjLY0IDY...|   1|2015-09-23 23:10:31|    2|JrIxlS1TzJ-iCu79u...|  1.0|I am a long term ...|     1|eUta8W_HdHMXPzLBB...|\n",
      "|gmjsEdUsKpj9Xxu6p...|   0|2015-01-03 23:21:18|    2|6AxgBCNX_PNTOxmbR...|  5.0|Loved this tour! ...|     0|r3zeYsv1XFBRA4dJp...|\n",
      "|LHSTtnW3YHCeUkRDG...|   0|2015-08-07 02:29:16|    0|_ZeMknuYdlQcUqng_...|  5.0|Amazingly amazing...|     2|yfFzsLmaWF2d4Sr0U...|\n",
      "|B5XSoSG3SfvQGtKEG...|   0|2016-03-30 22:46:33|    1|ZKvDG2sBvHVdF5oBN...|  3.0|This easter inste...|     1|wSTuiTk-sKNdcFypr...|\n",
      "|gebiRewfieSdtt17P...|   0|2016-07-25 07:31:06|    0|pUycOfUwM8vqX7KjR...|  3.0|Had a party of 6 ...|     0|59MxRhNVhU9MYndMk...|\n",
      "|uMvVYRgGNXf5boolA...|   0|2015-06-21 14:48:06|    0|rGQRf8UafX7OTlMNN...|  5.0|My experience wit...|     2|1WHRWwQmZOZDAhp2Q...|\n",
      "|EQ-TZ2eeD_E0BHuvo...|   0|2015-08-19 14:31:45|    0|l3Wk_mvAog6XANIuG...|  4.0|Locals recommende...|     0|ZbqSHbgCjzVAqaa7N...|\n",
      "|lj-E32x9_FA7GmUrB...|   0|2014-06-27 22:44:01|    0|XW_LfMv0fV21l9c6x...|  4.0|Love going here f...|     0|9OAtfnWag-ajVxRbU...|\n",
      "|RZtGWDLCAtuipwaZ-...|   0|2009-10-14 19:57:14|    0|8JFGBuHMoiNDyfcxu...|  4.0|Good food--loved ...|     0|smOvOajNG0lS4Pq7d...|\n",
      "|otQS34_MymijPTdNB...|   0|2011-10-27 17:12:05|    2|UBp0zWyH60Hmw6Fsa...|  4.0|The bun makes the...|     0|4Uh27DgGzsp6PqrH9...|\n",
      "|BVndHaLihEYbr76Z0...|   0|2014-10-11 16:22:06|    0|OAhBYw8IQ6wlfw1ow...|  5.0|Great place for b...|     0|1C2lxzUo1Hyye4RFI...|\n",
      "|YtSqYv1Q_pOltsVPS...|   0|2013-06-24 11:21:25|    0|oyaMhzBSwfGgemSGu...|  5.0|Tremendous servic...|     0|Dd1jQj7S-BFGqRbAp...|\n",
      "|rBdG_23USc7DletfZ...|   0|2014-08-10 19:41:43|    0|LnGZB0fjfgeVDVz5I...|  4.0|The hubby and I h...|     1|j2wlzrntrbKwyOcOi...|\n",
      "|CLEWowfkj-wKYJlQD...|   1|2016-03-07 00:02:18|    0|u2vzZaOqJ2feRshaa...|  5.0|I go to blow bar ...|     2|NDZvyYHTUWWu-kqgQ...|\n",
      "|eFvzHawVJofxSnD7T...|   0|2014-11-12 15:30:27|    0|Xs8Z8lmKkosqW5mw_...|  5.0|My absolute favor...|     0|IQsF3Rc6IgCzjVV9D...|\n",
      "+--------------------+----+-------------------+-----+--------------------+-----+--------------------+------+--------------------+\n",
      "only showing top 20 rows\n",
      "\n"
     ]
    }
   ],
   "source": [
    "reviews_df.show()"
   ]
  },
  {
   "cell_type": "code",
   "execution_count": 11,
   "metadata": {},
   "outputs": [],
   "source": [
    "filtered_reviews = reviews_df.join(filtered_df, on=\"business_id\", how=\"inner\")"
   ]
  },
  {
   "cell_type": "code",
   "execution_count": 12,
   "metadata": {},
   "outputs": [
    {
     "name": "stdout",
     "output_type": "stream",
     "text": [
      "+--------------------+----+-------------------+-----+--------------------+-----+--------------------+------+--------------------+----------------+--------------------+--------------------+---------------+--------------------+-------+----------+-----------+-----------------+-----------+------------+-----+-----+\n",
      "|         business_id|cool|               date|funny|           review_id|stars|                text|useful|             user_id|         address|          attributes|          categories|           city|               hours|is_open|  latitude|  longitude|             name|postal_code|review_count|stars|state|\n",
      "+--------------------+----+-------------------+-----+--------------------+-----+--------------------+------+--------------------+----------------+--------------------+--------------------+---------------+--------------------+-------+----------+-----------+-----------------+-----------+------------+-----+-----+\n",
      "|---kPU91CF4Lq2-Wl...|   0|2020-08-09 19:19:16|    0|hoLKem4XpXGt_X4li...|  4.0|Ate here for the ...|     0|415SXXbQrl2-VudHa...|4903 State Rd 54|{NULL, NULL, u'no...|Seafood, Restaura...|New Port Richey|{11:0-22:0, 0:0-0...|      1|28.2172884|-82.7333444|Frankie's Raw Bar|      34652|          24|  4.5|   FL|\n",
      "|---kPU91CF4Lq2-Wl...|   0|2020-09-05 20:09:03|    0|gzXaxjjTnrJJuG_gq...|  5.0|Absolutely fantas...|     0|ey8tdgUgC2tFqw2df...|4903 State Rd 54|{NULL, NULL, u'no...|Seafood, Restaura...|New Port Richey|{11:0-22:0, 0:0-0...|      1|28.2172884|-82.7333444|Frankie's Raw Bar|      34652|          24|  4.5|   FL|\n",
      "|---kPU91CF4Lq2-Wl...|   0|2020-06-13 22:03:50|    0|cpyLQlML0idHzCsCi...|  3.0|I was sadly disap...|     0|wNo_joX2evLhIYE4h...|4903 State Rd 54|{NULL, NULL, u'no...|Seafood, Restaura...|New Port Richey|{11:0-22:0, 0:0-0...|      1|28.2172884|-82.7333444|Frankie's Raw Bar|      34652|          24|  4.5|   FL|\n",
      "|---kPU91CF4Lq2-Wl...|   0|2020-02-11 00:30:51|    0|9j7uG9sA5WU7yraCQ...|  5.0|Great new local s...|     0|nRy6-tnPPeShNhZg9...|4903 State Rd 54|{NULL, NULL, u'no...|Seafood, Restaura...|New Port Richey|{11:0-22:0, 0:0-0...|      1|28.2172884|-82.7333444|Frankie's Raw Bar|      34652|          24|  4.5|   FL|\n",
      "|---kPU91CF4Lq2-Wl...|   1|2021-03-06 01:39:34|    0|ROpgxHN-NOZ3zSFMZ...|  3.0|This is a food tr...|     1|V8oYXtc0hMuYzG5Hf...|4903 State Rd 54|{NULL, NULL, u'no...|Seafood, Restaura...|New Port Richey|{11:0-22:0, 0:0-0...|      1|28.2172884|-82.7333444|Frankie's Raw Bar|      34652|          24|  4.5|   FL|\n",
      "|---kPU91CF4Lq2-Wl...|   0|2020-03-18 01:34:18|    0|rljdEt4_jgsqOgG-7...|  5.0|Great place for g...|     2|qrCkKrEwQ-q9m1iWS...|4903 State Rd 54|{NULL, NULL, u'no...|Seafood, Restaura...|New Port Richey|{11:0-22:0, 0:0-0...|      1|28.2172884|-82.7333444|Frankie's Raw Bar|      34652|          24|  4.5|   FL|\n",
      "|---kPU91CF4Lq2-Wl...|   1|2020-12-12 17:48:38|    0|JnfAi8vz8lcN63lvf...|  5.0|Blown away how fu...|     1|UmQDlaIjLiPBZ7M6U...|4903 State Rd 54|{NULL, NULL, u'no...|Seafood, Restaura...|New Port Richey|{11:0-22:0, 0:0-0...|      1|28.2172884|-82.7333444|Frankie's Raw Bar|      34652|          24|  4.5|   FL|\n",
      "|---kPU91CF4Lq2-Wl...|   0|2020-02-20 00:50:49|    0|XawsDBeNXlT_rRivc...|  5.0|Never would have ...|     1|5jlO2REcgB6GKFeSs...|4903 State Rd 54|{NULL, NULL, u'no...|Seafood, Restaura...|New Port Richey|{11:0-22:0, 0:0-0...|      1|28.2172884|-82.7333444|Frankie's Raw Bar|      34652|          24|  4.5|   FL|\n",
      "|---kPU91CF4Lq2-Wl...|   1|2020-09-26 20:42:25|    0|7dFBRid1QdCCr2PNs...|  5.0|Finale a local Fr...|     0|w2SrX4cPZqykJ5P7U...|4903 State Rd 54|{NULL, NULL, u'no...|Seafood, Restaura...|New Port Richey|{11:0-22:0, 0:0-0...|      1|28.2172884|-82.7333444|Frankie's Raw Bar|      34652|          24|  4.5|   FL|\n",
      "|---kPU91CF4Lq2-Wl...|   0|2021-11-24 16:27:56|    0|38jzE6n8lbnvSM7p6...|  5.0|EVERYTHING we had...|     0|7F5NSUrKYEPdrewd2...|4903 State Rd 54|{NULL, NULL, u'no...|Seafood, Restaura...|New Port Richey|{11:0-22:0, 0:0-0...|      1|28.2172884|-82.7333444|Frankie's Raw Bar|      34652|          24|  4.5|   FL|\n",
      "+--------------------+----+-------------------+-----+--------------------+-----+--------------------+------+--------------------+----------------+--------------------+--------------------+---------------+--------------------+-------+----------+-----------+-----------------+-----------+------------+-----+-----+\n",
      "only showing top 10 rows\n",
      "\n"
     ]
    }
   ],
   "source": [
    "filtered_reviews.show(10)"
   ]
  },
  {
   "cell_type": "code",
   "execution_count": 13,
   "metadata": {},
   "outputs": [],
   "source": [
    "filtered_reviews = filtered_reviews.drop(filtered_df.stars)"
   ]
  },
  {
   "cell_type": "code",
   "execution_count": 14,
   "metadata": {},
   "outputs": [
    {
     "data": {
      "text/plain": [
       "6880828"
      ]
     },
     "execution_count": 14,
     "metadata": {},
     "output_type": "execute_result"
    }
   ],
   "source": [
    "filtered_reviews.count()"
   ]
  },
  {
   "cell_type": "code",
   "execution_count": 15,
   "metadata": {},
   "outputs": [
    {
     "name": "stdout",
     "output_type": "stream",
     "text": [
      "+----------------------+----+-------------------+-----+----------------------+-----+-------------------------------------------------------------------------------------------------------------------------------------------------------------------------------------------------------------------------------------------------------------------------------------------------------------------------------------------------------------------------------------------------------------------------------------------------------------------------------------------------------------------------------------------------------------------------------------------------------------------------------------------------------------------------------------------------------------------------------------------------------------------------------------------------------------------------------------------------------------------------------------------------------------------------------------------------------+------+----------------------+----------------+---------------------------------------------------------------------------------------------------------------------------------------------------------------------------------------------------------------------------------------------------------------------------------------------------------------------------------------------------------------------------------------------------------------------------------------------------------------------------------------------+-------------------------------------------------------+---------------+----------------------------------------------------------------------+-------+----------+-----------+-----------------+-----------+------------+-----+\n",
      "|business_id           |cool|date               |funny|review_id             |stars|text                                                                                                                                                                                                                                                                                                                                                                                                                                                                                                                                                                                                                                                                                                                                                                                                                                                                                                                                                   |useful|user_id               |address         |attributes                                                                                                                                                                                                                                                                                                                                                                                                                                                                                   |categories                                             |city           |hours                                                                 |is_open|latitude  |longitude  |name             |postal_code|review_count|state|\n",
      "+----------------------+----+-------------------+-----+----------------------+-----+-------------------------------------------------------------------------------------------------------------------------------------------------------------------------------------------------------------------------------------------------------------------------------------------------------------------------------------------------------------------------------------------------------------------------------------------------------------------------------------------------------------------------------------------------------------------------------------------------------------------------------------------------------------------------------------------------------------------------------------------------------------------------------------------------------------------------------------------------------------------------------------------------------------------------------------------------------+------+----------------------+----------------+---------------------------------------------------------------------------------------------------------------------------------------------------------------------------------------------------------------------------------------------------------------------------------------------------------------------------------------------------------------------------------------------------------------------------------------------------------------------------------------------+-------------------------------------------------------+---------------+----------------------------------------------------------------------+-------+----------+-----------+-----------------+-----------+------------+-----+\n",
      "|---kPU91CF4Lq2-WlRu9Lw|0   |2020-08-09 19:19:16|0    |hoLKem4XpXGt_X4liqW9lw|4.0  |Ate here for the 1st time on Saturday 08/07/2020. \\nThe food was ok, had the Lobster Boil . The Lobster was ok for a soft shelled Lobster. The Crabs were soggy and mushy. The Clams were gummy and snotty . The headed shrimp were large and tasty. All the items were precooked, obviously. The fish spread was decent , also had the Fried Shrimp and Shrimp scampi  which were decent. BYOB ... ... The atmosphere was nice except for the zillion Flies. I'll be back with a six pack                                                                                                                                                                                                                                                                                                                                                                                                                                                             |0     |415SXXbQrl2-VudHa3ImbQ|4903 State Rd 54|{NULL, NULL, u'none', {'touristy': False, 'hipster': False, 'romantic': False, 'divey': False, 'intimate': False, 'trendy': False, 'upscale': False, 'classy': True, 'casual': False}, True, NULL, NULL, True, False, True, {'garage': False, 'street': False, 'validated': False, 'lot': True, 'valet': False}, NULL, True, NULL, False, NULL, True, NULL, NULL, NULL, NULL, NULL, NULL, False, NULL, NULL, NULL, True, NULL, NULL, False, NULL, NULL, False, True, True, NULL, True, u'no'}|Seafood, Restaurants, Latin American, Food, Food Trucks|New Port Richey|{11:0-22:0, 0:0-0:0, 11:0-22:0, NULL, 11:0-21:0, 11:0-21:0, 11:0-21:0}|1      |28.2172884|-82.7333444|Frankie's Raw Bar|34652      |24          |FL   |\n",
      "|---kPU91CF4Lq2-WlRu9Lw|0   |2020-09-05 20:09:03|0    |gzXaxjjTnrJJuG_gqvnmuw|5.0  |Absolutely fantastic!!!!  I'll be back for sure. Fried lobster tail was delicious. Five star for sure.                                                                                                                                                                                                                                                                                                                                                                                                                                                                                                                                                                                                                                                                                                                                                                                                                                                 |0     |ey8tdgUgC2tFqw2dfrr0QQ|4903 State Rd 54|{NULL, NULL, u'none', {'touristy': False, 'hipster': False, 'romantic': False, 'divey': False, 'intimate': False, 'trendy': False, 'upscale': False, 'classy': True, 'casual': False}, True, NULL, NULL, True, False, True, {'garage': False, 'street': False, 'validated': False, 'lot': True, 'valet': False}, NULL, True, NULL, False, NULL, True, NULL, NULL, NULL, NULL, NULL, NULL, False, NULL, NULL, NULL, True, NULL, NULL, False, NULL, NULL, False, True, True, NULL, True, u'no'}|Seafood, Restaurants, Latin American, Food, Food Trucks|New Port Richey|{11:0-22:0, 0:0-0:0, 11:0-22:0, NULL, 11:0-21:0, 11:0-21:0, 11:0-21:0}|1      |28.2172884|-82.7333444|Frankie's Raw Bar|34652      |24          |FL   |\n",
      "|---kPU91CF4Lq2-WlRu9Lw|0   |2020-06-13 22:03:50|0    |cpyLQlML0idHzCsCi5WRvA|3.0  |I was sadly disappointed in my experience. We ordered crabs and they were extremely small, watery and over half were bad(sick crabs), we ordered beans and rice which lacked flavor and literally had one bean in it that you can see from the picture. The coleslaw also lacked taste. We ask for grouper nuggets and a few were not cooked all the way. So given the food experience it was nothing like the reviews we read. Why I am giving them three stars is because the waitress that waited on us (young pregnant girl) was EXTREMELY polite and an excellent server. The owner came by our table and greeted us which is something not done often these days. They also took half off the crabs since half were bad trying to make it right but in the end we paid over $50 (including tip) for food that we barley ate and had to go to McDonald's after. \\nI did see other food that may have been better choices but we came for the crab.|0     |wNo_joX2evLhIYE4hQg1CQ|4903 State Rd 54|{NULL, NULL, u'none', {'touristy': False, 'hipster': False, 'romantic': False, 'divey': False, 'intimate': False, 'trendy': False, 'upscale': False, 'classy': True, 'casual': False}, True, NULL, NULL, True, False, True, {'garage': False, 'street': False, 'validated': False, 'lot': True, 'valet': False}, NULL, True, NULL, False, NULL, True, NULL, NULL, NULL, NULL, NULL, NULL, False, NULL, NULL, NULL, True, NULL, NULL, False, NULL, NULL, False, True, True, NULL, True, u'no'}|Seafood, Restaurants, Latin American, Food, Food Trucks|New Port Richey|{11:0-22:0, 0:0-0:0, 11:0-22:0, NULL, 11:0-21:0, 11:0-21:0, 11:0-21:0}|1      |28.2172884|-82.7333444|Frankie's Raw Bar|34652      |24          |FL   |\n",
      "|---kPU91CF4Lq2-WlRu9Lw|0   |2020-02-11 00:30:51|0    |9j7uG9sA5WU7yraCQAqnGw|5.0  |Great new local seafood spot. It' actually real seafood! Great atmosphere! BYOB encouraged.                                                                                                                                                                                                                                                                                                                                                                                                                                                                                                                                                                                                                                                                                                                                                                                                                                                            |0     |nRy6-tnPPeShNhZg9UiU4A|4903 State Rd 54|{NULL, NULL, u'none', {'touristy': False, 'hipster': False, 'romantic': False, 'divey': False, 'intimate': False, 'trendy': False, 'upscale': False, 'classy': True, 'casual': False}, True, NULL, NULL, True, False, True, {'garage': False, 'street': False, 'validated': False, 'lot': True, 'valet': False}, NULL, True, NULL, False, NULL, True, NULL, NULL, NULL, NULL, NULL, NULL, False, NULL, NULL, NULL, True, NULL, NULL, False, NULL, NULL, False, True, True, NULL, True, u'no'}|Seafood, Restaurants, Latin American, Food, Food Trucks|New Port Richey|{11:0-22:0, 0:0-0:0, 11:0-22:0, NULL, 11:0-21:0, 11:0-21:0, 11:0-21:0}|1      |28.2172884|-82.7333444|Frankie's Raw Bar|34652      |24          |FL   |\n",
      "|---kPU91CF4Lq2-WlRu9Lw|1   |2021-03-06 01:39:34|0    |ROpgxHN-NOZ3zSFMZDE5lA|3.0  |This is a food truck alongside a picnic area. The atmosphere is fine--outdoor and casual.  They don't serve any alcohol...byob.  Service is great.  Food is meh!                                                                                                                                                                                                                                                                                                                                                                                                                                                                                                                                                                                                                                                                                                                                                                                       |1     |V8oYXtc0hMuYzG5HfUqaSg|4903 State Rd 54|{NULL, NULL, u'none', {'touristy': False, 'hipster': False, 'romantic': False, 'divey': False, 'intimate': False, 'trendy': False, 'upscale': False, 'classy': True, 'casual': False}, True, NULL, NULL, True, False, True, {'garage': False, 'street': False, 'validated': False, 'lot': True, 'valet': False}, NULL, True, NULL, False, NULL, True, NULL, NULL, NULL, NULL, NULL, NULL, False, NULL, NULL, NULL, True, NULL, NULL, False, NULL, NULL, False, True, True, NULL, True, u'no'}|Seafood, Restaurants, Latin American, Food, Food Trucks|New Port Richey|{11:0-22:0, 0:0-0:0, 11:0-22:0, NULL, 11:0-21:0, 11:0-21:0, 11:0-21:0}|1      |28.2172884|-82.7333444|Frankie's Raw Bar|34652      |24          |FL   |\n",
      "|---kPU91CF4Lq2-WlRu9Lw|0   |2020-03-18 01:34:18|0    |rljdEt4_jgsqOgG-7myu-g|5.0  |Great place for group of friends to meet & eat the freshest seafood in New Port Richie!  Friendly and very casual!   The chef answered questions and made great recommendations!   Servings were very generous with a really good slaw!  Pricing very reasonable considering the quality and portions!   We will come back again.  The menu changes with the daily catch so we will try the next new thing Frankie cooks up!                                                                                                                                                                                                                                                                                                                                                                                                                                                                                                                           |2     |qrCkKrEwQ-q9m1iWSEnZKQ|4903 State Rd 54|{NULL, NULL, u'none', {'touristy': False, 'hipster': False, 'romantic': False, 'divey': False, 'intimate': False, 'trendy': False, 'upscale': False, 'classy': True, 'casual': False}, True, NULL, NULL, True, False, True, {'garage': False, 'street': False, 'validated': False, 'lot': True, 'valet': False}, NULL, True, NULL, False, NULL, True, NULL, NULL, NULL, NULL, NULL, NULL, False, NULL, NULL, NULL, True, NULL, NULL, False, NULL, NULL, False, True, True, NULL, True, u'no'}|Seafood, Restaurants, Latin American, Food, Food Trucks|New Port Richey|{11:0-22:0, 0:0-0:0, 11:0-22:0, NULL, 11:0-21:0, 11:0-21:0, 11:0-21:0}|1      |28.2172884|-82.7333444|Frankie's Raw Bar|34652      |24          |FL   |\n",
      "|---kPU91CF4Lq2-WlRu9Lw|1   |2020-12-12 17:48:38|0    |JnfAi8vz8lcN63lvf52JYg|5.0  |Blown away how fun and awesome this little gem is! The atmosphere is so fun and festive and the garlic shrimp and fried lobster to die for! Cannot wait to go back and get some blue crabs steamed Baltimore style!!! It was a cold night but the heaters were perfect. It's BYOB which is also the bomb.com                                                                                                                                                                                                                                                                                                                                                                                                                                                                                                                                                                                                                                           |1     |UmQDlaIjLiPBZ7M6UBitVQ|4903 State Rd 54|{NULL, NULL, u'none', {'touristy': False, 'hipster': False, 'romantic': False, 'divey': False, 'intimate': False, 'trendy': False, 'upscale': False, 'classy': True, 'casual': False}, True, NULL, NULL, True, False, True, {'garage': False, 'street': False, 'validated': False, 'lot': True, 'valet': False}, NULL, True, NULL, False, NULL, True, NULL, NULL, NULL, NULL, NULL, NULL, False, NULL, NULL, NULL, True, NULL, NULL, False, NULL, NULL, False, True, True, NULL, True, u'no'}|Seafood, Restaurants, Latin American, Food, Food Trucks|New Port Richey|{11:0-22:0, 0:0-0:0, 11:0-22:0, NULL, 11:0-21:0, 11:0-21:0, 11:0-21:0}|1      |28.2172884|-82.7333444|Frankie's Raw Bar|34652      |24          |FL   |\n",
      "|---kPU91CF4Lq2-WlRu9Lw|0   |2020-02-20 00:50:49|0    |XawsDBeNXlT_rRivcgmhyA|5.0  |Never would have thought a little hidden place like this would have such great food! We had oysters garlic shrimp and crab cakes and everything was amazing ! It was so good I forgot to take pictures before I devoured everything! Will definitely be back !                                                                                                                                                                                                                                                                                                                                                                                                                                                                                                                                                                                                                                                                                         |1     |5jlO2REcgB6GKFeSsc-OXw|4903 State Rd 54|{NULL, NULL, u'none', {'touristy': False, 'hipster': False, 'romantic': False, 'divey': False, 'intimate': False, 'trendy': False, 'upscale': False, 'classy': True, 'casual': False}, True, NULL, NULL, True, False, True, {'garage': False, 'street': False, 'validated': False, 'lot': True, 'valet': False}, NULL, True, NULL, False, NULL, True, NULL, NULL, NULL, NULL, NULL, NULL, False, NULL, NULL, NULL, True, NULL, NULL, False, NULL, NULL, False, True, True, NULL, True, u'no'}|Seafood, Restaurants, Latin American, Food, Food Trucks|New Port Richey|{11:0-22:0, 0:0-0:0, 11:0-22:0, NULL, 11:0-21:0, 11:0-21:0, 11:0-21:0}|1      |28.2172884|-82.7333444|Frankie's Raw Bar|34652      |24          |FL   |\n",
      "|---kPU91CF4Lq2-WlRu9Lw|1   |2020-09-26 20:42:25|0    |7dFBRid1QdCCr2PNsfD_lw|5.0  |Finale a local Fresh seafood place to go to. Had the top neck clams & crabs. Great job guys. Thanks see you again with our corona 6 pack.                                                                                                                                                                                                                                                                                                                                                                                                                                                                                                                                                                                                                                                                                                                                                                                                              |0     |w2SrX4cPZqykJ5P7UwABng|4903 State Rd 54|{NULL, NULL, u'none', {'touristy': False, 'hipster': False, 'romantic': False, 'divey': False, 'intimate': False, 'trendy': False, 'upscale': False, 'classy': True, 'casual': False}, True, NULL, NULL, True, False, True, {'garage': False, 'street': False, 'validated': False, 'lot': True, 'valet': False}, NULL, True, NULL, False, NULL, True, NULL, NULL, NULL, NULL, NULL, NULL, False, NULL, NULL, NULL, True, NULL, NULL, False, NULL, NULL, False, True, True, NULL, True, u'no'}|Seafood, Restaurants, Latin American, Food, Food Trucks|New Port Richey|{11:0-22:0, 0:0-0:0, 11:0-22:0, NULL, 11:0-21:0, 11:0-21:0, 11:0-21:0}|1      |28.2172884|-82.7333444|Frankie's Raw Bar|34652      |24          |FL   |\n",
      "|---kPU91CF4Lq2-WlRu9Lw|0   |2021-11-24 16:27:56|0    |38jzE6n8lbnvSM7p6SwTwA|5.0  |EVERYTHING we had on this menu was amazing . The stone crab claws are a must try, the sweet plantains, the garlic butter shrimp. All delicious. Service was awesome , just a nice laid  back place and you can BYOB. Our server annmarie was attentive and friendly. We met the owner Frankie and his family who were personable, friendly and went out of their way to make sure our daughter Bella had a great experience. Definitely will be back :)                                                                                                                                                                                                                                                                                                                                                                                                                                                                                                |0     |7F5NSUrKYEPdrewd25vBJQ|4903 State Rd 54|{NULL, NULL, u'none', {'touristy': False, 'hipster': False, 'romantic': False, 'divey': False, 'intimate': False, 'trendy': False, 'upscale': False, 'classy': True, 'casual': False}, True, NULL, NULL, True, False, True, {'garage': False, 'street': False, 'validated': False, 'lot': True, 'valet': False}, NULL, True, NULL, False, NULL, True, NULL, NULL, NULL, NULL, NULL, NULL, False, NULL, NULL, NULL, True, NULL, NULL, False, NULL, NULL, False, True, True, NULL, True, u'no'}|Seafood, Restaurants, Latin American, Food, Food Trucks|New Port Richey|{11:0-22:0, 0:0-0:0, 11:0-22:0, NULL, 11:0-21:0, 11:0-21:0, 11:0-21:0}|1      |28.2172884|-82.7333444|Frankie's Raw Bar|34652      |24          |FL   |\n",
      "|---kPU91CF4Lq2-WlRu9Lw|0   |2021-04-12 19:46:10|0    |HwGGdjfpI7_ndf9d9W-6fw|1.0  |Be careful before ordering the coleslaw, I found a rusted push pin in mine. When I showed it to the waitress she apologized and said it came from the board above where food is prepared. Just thankful that I did not eat the pin, can't image the internal damage it could have done.  I was offered a free desert but passed on that. Don't know if I would go back.                                                                                                                                                                                                                                                                                                                                                                                                                                                                                                                                                                                |1     |YUVbBNr_dSJNP2pwDk1xyg|4903 State Rd 54|{NULL, NULL, u'none', {'touristy': False, 'hipster': False, 'romantic': False, 'divey': False, 'intimate': False, 'trendy': False, 'upscale': False, 'classy': True, 'casual': False}, True, NULL, NULL, True, False, True, {'garage': False, 'street': False, 'validated': False, 'lot': True, 'valet': False}, NULL, True, NULL, False, NULL, True, NULL, NULL, NULL, NULL, NULL, NULL, False, NULL, NULL, NULL, True, NULL, NULL, False, NULL, NULL, False, True, True, NULL, True, u'no'}|Seafood, Restaurants, Latin American, Food, Food Trucks|New Port Richey|{11:0-22:0, 0:0-0:0, 11:0-22:0, NULL, 11:0-21:0, 11:0-21:0, 11:0-21:0}|1      |28.2172884|-82.7333444|Frankie's Raw Bar|34652      |24          |FL   |\n",
      "|---kPU91CF4Lq2-WlRu9Lw|0   |2020-01-29 18:39:02|0    |8NnKwxC71uLNWs00efgD7w|5.0  |Unfortunately the site for Frankie's is incorrect on hours. When I called and got no answers assumed they were closed. Frankie call me back to say they were in fact open! That never happens so we went and found a diamond in the rough and a fantastic fresh seafood eatery. Joe the chef is a super nice guy and even better cook. Had ridiculously fresh oysters, fish dip, and lobster meal that rivaled the best we ever tasted. It's a byob, which I love also. We are only in Port Richey for a couple days but will likely eat there the rest of our evenings. Get there before everyone finds out and the wait is in the hours! Well done Frankie and thanks for bringing us in!                                                                                                                                                                                                                                                            |0     |YhbCO1DVlNYkmVv8DCAIxw|4903 State Rd 54|{NULL, NULL, u'none', {'touristy': False, 'hipster': False, 'romantic': False, 'divey': False, 'intimate': False, 'trendy': False, 'upscale': False, 'classy': True, 'casual': False}, True, NULL, NULL, True, False, True, {'garage': False, 'street': False, 'validated': False, 'lot': True, 'valet': False}, NULL, True, NULL, False, NULL, True, NULL, NULL, NULL, NULL, NULL, NULL, False, NULL, NULL, NULL, True, NULL, NULL, False, NULL, NULL, False, True, True, NULL, True, u'no'}|Seafood, Restaurants, Latin American, Food, Food Trucks|New Port Richey|{11:0-22:0, 0:0-0:0, 11:0-22:0, NULL, 11:0-21:0, 11:0-21:0, 11:0-21:0}|1      |28.2172884|-82.7333444|Frankie's Raw Bar|34652      |24          |FL   |\n",
      "|---kPU91CF4Lq2-WlRu9Lw|0   |2021-10-17 02:02:58|0    |gANpst_byMcYH6c6nqRcRg|5.0  |What a fantastic casual seafood or BBQ local secret. No frills just amazing food. It was the best oysters I've had in decades.                                                                                                                                                                                                                                                                                                                                                                                                                                                                                                                                                                                                                                                                                                                                                                                                                         |0     |jtPb5gfrvYixrC0axWjqlA|4903 State Rd 54|{NULL, NULL, u'none', {'touristy': False, 'hipster': False, 'romantic': False, 'divey': False, 'intimate': False, 'trendy': False, 'upscale': False, 'classy': True, 'casual': False}, True, NULL, NULL, True, False, True, {'garage': False, 'street': False, 'validated': False, 'lot': True, 'valet': False}, NULL, True, NULL, False, NULL, True, NULL, NULL, NULL, NULL, NULL, NULL, False, NULL, NULL, NULL, True, NULL, NULL, False, NULL, NULL, False, True, True, NULL, True, u'no'}|Seafood, Restaurants, Latin American, Food, Food Trucks|New Port Richey|{11:0-22:0, 0:0-0:0, 11:0-22:0, NULL, 11:0-21:0, 11:0-21:0, 11:0-21:0}|1      |28.2172884|-82.7333444|Frankie's Raw Bar|34652      |24          |FL   |\n",
      "|---kPU91CF4Lq2-WlRu9Lw|4   |2020-06-04 12:27:25|0    |F2L5ZUhXGQV3eoXker3VhA|4.0  |This location is right of of state road 54.\\n\\nNice location to sit outside on a nice day. \\n\\nI ordered to go my order was ready in 10 minutes \\n\\nThe staff was very polite \\n\\nMy food was hot, fresh and tasty! The potion of coleslaw was huge an my lobster was a nice size. \\n\\nI will be coming back                                                                                                                                                                                                                                                                                                                                                                                                                                                                                                                                                                                                                                           |4     |i48cHEyRBl5g9_npYIG7dA|4903 State Rd 54|{NULL, NULL, u'none', {'touristy': False, 'hipster': False, 'romantic': False, 'divey': False, 'intimate': False, 'trendy': False, 'upscale': False, 'classy': True, 'casual': False}, True, NULL, NULL, True, False, True, {'garage': False, 'street': False, 'validated': False, 'lot': True, 'valet': False}, NULL, True, NULL, False, NULL, True, NULL, NULL, NULL, NULL, NULL, NULL, False, NULL, NULL, NULL, True, NULL, NULL, False, NULL, NULL, False, True, True, NULL, True, u'no'}|Seafood, Restaurants, Latin American, Food, Food Trucks|New Port Richey|{11:0-22:0, 0:0-0:0, 11:0-22:0, NULL, 11:0-21:0, 11:0-21:0, 11:0-21:0}|1      |28.2172884|-82.7333444|Frankie's Raw Bar|34652      |24          |FL   |\n",
      "|---kPU91CF4Lq2-WlRu9Lw|3   |2020-10-02 23:01:22|0    |FZmpplmG5JEotgwF0RuClg|5.0  |Don't drive by ... STOP at this \"Old Florida\" spot on 54!  Everything is fresh and delicious ... oh, and entertaining too!  Oysters on the half shell, raw cherry stone clams, fish spread, peel & eat shrimp, and Boom Boom shrimp appetizers - all excellent.  Triple Threat with triple tail, scallops and shrimp - blackened to your liking.  Crab cakes are great! Dozen blue crab may be the winner - to die for - and fun to eat!  Fish and chips with sea bass - sooo good!  Waiting to try the key lime dessert. But so far, everyone will be back!                                                                                                                                                                                                                                                                                                                                                                                           |3     |Q-ia5eY9smWBTwYOZO6fXw|4903 State Rd 54|{NULL, NULL, u'none', {'touristy': False, 'hipster': False, 'romantic': False, 'divey': False, 'intimate': False, 'trendy': False, 'upscale': False, 'classy': True, 'casual': False}, True, NULL, NULL, True, False, True, {'garage': False, 'street': False, 'validated': False, 'lot': True, 'valet': False}, NULL, True, NULL, False, NULL, True, NULL, NULL, NULL, NULL, NULL, NULL, False, NULL, NULL, NULL, True, NULL, NULL, False, NULL, NULL, False, True, True, NULL, True, u'no'}|Seafood, Restaurants, Latin American, Food, Food Trucks|New Port Richey|{11:0-22:0, 0:0-0:0, 11:0-22:0, NULL, 11:0-21:0, 11:0-21:0, 11:0-21:0}|1      |28.2172884|-82.7333444|Frankie's Raw Bar|34652      |24          |FL   |\n",
      "|---kPU91CF4Lq2-WlRu9Lw|0   |2020-12-14 01:17:21|0    |s7f2L3EESkKf-kNDSchpow|4.0  |I love this place. Nice place for the girls to hang out, or grab some delicious food. It's a byob, so bring your favorite drink, kick back and relax. I like the Zen garden. Delightful when everything is in bloom. \\nOwners are pleasant as are the waitresses. \\nWill be returning with family.                                                                                                                                                                                                                                                                                                                                                                                                                                                                                                                                                                                                                                                     |1     |goqGoC76zemDagYvRa8GIA|4903 State Rd 54|{NULL, NULL, u'none', {'touristy': False, 'hipster': False, 'romantic': False, 'divey': False, 'intimate': False, 'trendy': False, 'upscale': False, 'classy': True, 'casual': False}, True, NULL, NULL, True, False, True, {'garage': False, 'street': False, 'validated': False, 'lot': True, 'valet': False}, NULL, True, NULL, False, NULL, True, NULL, NULL, NULL, NULL, NULL, NULL, False, NULL, NULL, NULL, True, NULL, NULL, False, NULL, NULL, False, True, True, NULL, True, u'no'}|Seafood, Restaurants, Latin American, Food, Food Trucks|New Port Richey|{11:0-22:0, 0:0-0:0, 11:0-22:0, NULL, 11:0-21:0, 11:0-21:0, 11:0-21:0}|1      |28.2172884|-82.7333444|Frankie's Raw Bar|34652      |24          |FL   |\n",
      "|---kPU91CF4Lq2-WlRu9Lw|1   |2021-04-27 15:36:40|0    |3SSlZgCoSsVT9BJe7x7TGw|5.0  |YUM! Such a cool place for lunch or dinner, love the atmosphere and the food is great! Staff is friendly!Shrimp and all other seafood is always cooked to perfection! Can't wait to come back :)                                                                                                                                                                                                                                                                                                                                                                                                                                                                                                                                                                                                                                                                                                                                                       |1     |5r_jlIQvSr7VG5YFbhU6nw|4903 State Rd 54|{NULL, NULL, u'none', {'touristy': False, 'hipster': False, 'romantic': False, 'divey': False, 'intimate': False, 'trendy': False, 'upscale': False, 'classy': True, 'casual': False}, True, NULL, NULL, True, False, True, {'garage': False, 'street': False, 'validated': False, 'lot': True, 'valet': False}, NULL, True, NULL, False, NULL, True, NULL, NULL, NULL, NULL, NULL, NULL, False, NULL, NULL, NULL, True, NULL, NULL, False, NULL, NULL, False, True, True, NULL, True, u'no'}|Seafood, Restaurants, Latin American, Food, Food Trucks|New Port Richey|{11:0-22:0, 0:0-0:0, 11:0-22:0, NULL, 11:0-21:0, 11:0-21:0, 11:0-21:0}|1      |28.2172884|-82.7333444|Frankie's Raw Bar|34652      |24          |FL   |\n",
      "|---kPU91CF4Lq2-WlRu9Lw|0   |2021-11-13 23:16:59|0    |gcTR_HEwhz7EnupVuG_bhw|5.0  |Great atmosphere to match the incredible food and staff. The establishment makes you feel so comfortable and warm you don't want to leave! I had the Cuban Empanadas's and they were delicious  I ordered the baked beans also and they were some of the best I've ever had. I can't wait to keep going back until I've had everything on the menu....Twice!!!!                                                                                                                                                                                                                                                                                                                                                                                                                                                                                                                                                                                        |0     |WINRnvRO7iGEhrf9iwf25A|4903 State Rd 54|{NULL, NULL, u'none', {'touristy': False, 'hipster': False, 'romantic': False, 'divey': False, 'intimate': False, 'trendy': False, 'upscale': False, 'classy': True, 'casual': False}, True, NULL, NULL, True, False, True, {'garage': False, 'street': False, 'validated': False, 'lot': True, 'valet': False}, NULL, True, NULL, False, NULL, True, NULL, NULL, NULL, NULL, NULL, NULL, False, NULL, NULL, NULL, True, NULL, NULL, False, NULL, NULL, False, True, True, NULL, True, u'no'}|Seafood, Restaurants, Latin American, Food, Food Trucks|New Port Richey|{11:0-22:0, 0:0-0:0, 11:0-22:0, NULL, 11:0-21:0, 11:0-21:0, 11:0-21:0}|1      |28.2172884|-82.7333444|Frankie's Raw Bar|34652      |24          |FL   |\n",
      "|---kPU91CF4Lq2-WlRu9Lw|0   |2021-11-18 14:23:29|0    |6R5GONxoSt_GdBfawKmbug|5.0  |the only place to get raw clams!!!!!! Shucked correctly\\n\\noh and the conch fritters are \"award winning\" !!!                                                                                                                                                                                                                                                                                                                                                                                                                                                                                                                                                                                                                                                                                                                                                                                                                                           |0     |zEe31kAcPExQgFR-AgpT2A|4903 State Rd 54|{NULL, NULL, u'none', {'touristy': False, 'hipster': False, 'romantic': False, 'divey': False, 'intimate': False, 'trendy': False, 'upscale': False, 'classy': True, 'casual': False}, True, NULL, NULL, True, False, True, {'garage': False, 'street': False, 'validated': False, 'lot': True, 'valet': False}, NULL, True, NULL, False, NULL, True, NULL, NULL, NULL, NULL, NULL, NULL, False, NULL, NULL, NULL, True, NULL, NULL, False, NULL, NULL, False, True, True, NULL, True, u'no'}|Seafood, Restaurants, Latin American, Food, Food Trucks|New Port Richey|{11:0-22:0, 0:0-0:0, 11:0-22:0, NULL, 11:0-21:0, 11:0-21:0, 11:0-21:0}|1      |28.2172884|-82.7333444|Frankie's Raw Bar|34652      |24          |FL   |\n",
      "|---kPU91CF4Lq2-WlRu9Lw|0   |2021-12-03 22:13:28|0    |RalOYHTQeYyTNjwd15tHXw|5.0  |Awesome raw bar /fish shack. Exactly how I love to eat.I got oysters, shrimp and the mahi. Can't wait to return!!                                                                                                                                                                                                                                                                                                                                                                                                                                                                                                                                                                                                                                                                                                                                                                                                                                      |0     |zmgsdGzOp08BWJZ2yrOKww|4903 State Rd 54|{NULL, NULL, u'none', {'touristy': False, 'hipster': False, 'romantic': False, 'divey': False, 'intimate': False, 'trendy': False, 'upscale': False, 'classy': True, 'casual': False}, True, NULL, NULL, True, False, True, {'garage': False, 'street': False, 'validated': False, 'lot': True, 'valet': False}, NULL, True, NULL, False, NULL, True, NULL, NULL, NULL, NULL, NULL, NULL, False, NULL, NULL, NULL, True, NULL, NULL, False, NULL, NULL, False, True, True, NULL, True, u'no'}|Seafood, Restaurants, Latin American, Food, Food Trucks|New Port Richey|{11:0-22:0, 0:0-0:0, 11:0-22:0, NULL, 11:0-21:0, 11:0-21:0, 11:0-21:0}|1      |28.2172884|-82.7333444|Frankie's Raw Bar|34652      |24          |FL   |\n",
      "+----------------------+----+-------------------+-----+----------------------+-----+-------------------------------------------------------------------------------------------------------------------------------------------------------------------------------------------------------------------------------------------------------------------------------------------------------------------------------------------------------------------------------------------------------------------------------------------------------------------------------------------------------------------------------------------------------------------------------------------------------------------------------------------------------------------------------------------------------------------------------------------------------------------------------------------------------------------------------------------------------------------------------------------------------------------------------------------------------+------+----------------------+----------------+---------------------------------------------------------------------------------------------------------------------------------------------------------------------------------------------------------------------------------------------------------------------------------------------------------------------------------------------------------------------------------------------------------------------------------------------------------------------------------------------+-------------------------------------------------------+---------------+----------------------------------------------------------------------+-------+----------+-----------+-----------------+-----------+------------+-----+\n",
      "only showing top 20 rows\n",
      "\n"
     ]
    }
   ],
   "source": [
    "filtered_reviews.show(truncate=False)"
   ]
  },
  {
   "cell_type": "code",
   "execution_count": null,
   "metadata": {},
   "outputs": [],
   "source": [
    "filtered_reviews.printSchema()"
   ]
  },
  {
   "cell_type": "code",
   "execution_count": 17,
   "metadata": {},
   "outputs": [],
   "source": [
    "# pip install vaderSentiment"
   ]
  },
  {
   "cell_type": "code",
   "execution_count": 16,
   "metadata": {},
   "outputs": [],
   "source": [
    "selected_reviews= filtered_reviews.select(\"business_id\",\"review_id\",\"text\")\n"
   ]
  },
  {
   "cell_type": "code",
   "execution_count": 17,
   "metadata": {},
   "outputs": [
    {
     "name": "stdout",
     "output_type": "stream",
     "text": [
      "+--------------------+--------------------+--------------------+\n",
      "|         business_id|           review_id|                text|\n",
      "+--------------------+--------------------+--------------------+\n",
      "|XQfwVwDr-v0ZS3_Cb...|KU_O5udG6zpxOg-Vc...|If you decide to ...|\n",
      "|7ATYjTIgM3jUlt4UM...|BiTunyQ73aT9WBnpR...|I've taken a lot ...|\n",
      "|YjUWPpI6HXG530lwP...|saUsX_uimxRlCVr67...|Family diner. Had...|\n",
      "|kxX2SOes4o-D3ZQBk...|AqPFMleE6RsU23_au...|Wow!  Yummy, diff...|\n",
      "|e4Vwtrqf-wpJfwesg...|Sx8TMOWLNuJBWer-0...|Cute interior and...|\n",
      "|04UD14gamNjLY0IDY...|JrIxlS1TzJ-iCu79u...|I am a long term ...|\n",
      "|gmjsEdUsKpj9Xxu6p...|6AxgBCNX_PNTOxmbR...|Loved this tour! ...|\n",
      "|LHSTtnW3YHCeUkRDG...|_ZeMknuYdlQcUqng_...|Amazingly amazing...|\n",
      "|B5XSoSG3SfvQGtKEG...|ZKvDG2sBvHVdF5oBN...|This easter inste...|\n",
      "|gebiRewfieSdtt17P...|pUycOfUwM8vqX7KjR...|Had a party of 6 ...|\n",
      "+--------------------+--------------------+--------------------+\n",
      "only showing top 10 rows\n",
      "\n"
     ]
    }
   ],
   "source": [
    "selected_reviews.show(10)"
   ]
  },
  {
   "cell_type": "code",
   "execution_count": 20,
   "metadata": {},
   "outputs": [],
   "source": [
    "# pip install databricks"
   ]
  },
  {
   "cell_type": "code",
   "execution_count": null,
   "metadata": {},
   "outputs": [],
   "source": [
    "# filtered_reviews.printSchema()"
   ]
  },
  {
   "cell_type": "code",
   "execution_count": 18,
   "metadata": {},
   "outputs": [],
   "source": [
    "from pyspark.sql import functions as F\n",
    "# trial starts\n",
    "\n",
    "review_counts = selected_reviews.groupBy(\"business_id\").agg(F.count(\"review_id\").alias(\"review_count\"))\n",
    "\n",
    "# Step 2: Filter out businesses with fewer than 10 reviews\n",
    "valid_businesses = review_counts.filter(F.col(\"review_count\") >= 10)\n",
    "\n",
    "# Step 3: Join back to the original DataFrame to get only valid businesses\n",
    "valid_reviews = selected_reviews.join(valid_businesses.select(\"business_id\"), on=\"business_id\")"
   ]
  },
  {
   "cell_type": "code",
   "execution_count": null,
   "metadata": {},
   "outputs": [],
   "source": [
    "\n",
    "\n",
    "# Step 4: Select a maximum of 50 reviews per business_id\n",
    "result = (\n",
    "    valid_reviews\n",
    "    .groupBy(\"business_id\")\n",
    "    .agg(F.collect_list(F.struct(\"review_id\", \"text\")).alias(\"reviews\"))\n",
    ")\n",
    "\n",
    "# Step 5: Explode to get individual rows and limit to a maximum of 50 reviews per business\n",
    "final_result = (\n",
    "    result\n",
    "    .withColumn(\"reviews\", F.expr(\"slice(reviews, 1, 20)\"))\n",
    "    .select(\"business_id\", F.explode(\"reviews\").alias(\"review\"))\n",
    ")\n",
    "\n",
    "# Step 6: Select required columns\n",
    "final_df = final_result.select(\"business_id\", \"review.review_id\", \"review.text\")\n",
    "\n",
    "# Show the final DataFrame\n",
    "final_df.show()\n"
   ]
  },
  {
   "cell_type": "code",
   "execution_count": null,
   "metadata": {},
   "outputs": [],
   "source": [
    "final_df.count()"
   ]
  },
  {
   "cell_type": "code",
   "execution_count": 25,
   "metadata": {},
   "outputs": [],
   "source": [
    "from vaderSentiment.vaderSentiment import SentimentIntensityAnalyzer\n",
    "from pyspark.sql.functions import udf, avg\n",
    "from pyspark.sql.types import FloatType"
   ]
  },
  {
   "cell_type": "code",
   "execution_count": 26,
   "metadata": {},
   "outputs": [],
   "source": [
    "# Initialize VADER SentimentIntensityAnalyzer\n",
    "analyzer = SentimentIntensityAnalyzer()\n",
    "\n",
    "# Define a function to get sentiment score\n",
    "def get_sentiment_score(text):\n",
    "    sentiment_dict = analyzer.polarity_scores(text)\n",
    "    return float(sentiment_dict['compound'])  # Using the compound score\n",
    "\n",
    "# Register the UDF\n",
    "sentiment_udf = udf(get_sentiment_score, FloatType())\n"
   ]
  },
  {
   "cell_type": "code",
   "execution_count": null,
   "metadata": {},
   "outputs": [],
   "source": [
    "# Apply the UDF to the DataFrame\n",
    "df_with_sentiment = final_df.withColumn(\"sentiment_score\", sentiment_udf(final_df[\"text\"]))\n",
    "\n",
    "# Show the results\n",
    "df_with_sentiment.show()\n"
   ]
  },
  {
   "cell_type": "code",
   "execution_count": 28,
   "metadata": {},
   "outputs": [],
   "source": [
    "average_sentiment_df = df_with_sentiment.groupBy(\"business_id\").agg(avg(\"sentiment_score\").alias(\"average_sentiment_score\"))"
   ]
  },
  {
   "cell_type": "code",
   "execution_count": null,
   "metadata": {},
   "outputs": [],
   "source": [
    "average_sentiment_df.show()\n"
   ]
  },
  {
   "cell_type": "code",
   "execution_count": null,
   "metadata": {},
   "outputs": [],
   "source": [
    "joined_df = filtered_df.join(average_sentiment_df, on='business_id', how='inner')\n",
    "\n",
    "# Show the results\n",
    "joined_df.show()"
   ]
  },
  {
   "cell_type": "code",
   "execution_count": null,
   "metadata": {},
   "outputs": [],
   "source": []
  },
  {
   "cell_type": "code",
   "execution_count": null,
   "metadata": {},
   "outputs": [],
   "source": [
    "from pyspark.sql.functions import col\n",
    "\n",
    "# Check which rows have null values in the \"sentiment_score\" column\n",
    "null_rows = joined_df.filter(col(\"average_sentiment_score\").isNull())\n",
    "\n",
    "# Show rows where sentiment_score is null\n",
    "# null_rows.show()\n",
    "\n",
    "# Remove rows where sentiment_score is null\n",
    "cleaned_df = joined_df.filter(col(\"average_sentiment_score\").isNotNull())\n",
    "\n",
    "# Show the cleaned DataFrame\n",
    "cleaned_df.show()\n"
   ]
  },
  {
   "cell_type": "code",
   "execution_count": null,
   "metadata": {},
   "outputs": [],
   "source": [
    "cleaned_df.count()"
   ]
  },
  {
   "cell_type": "code",
   "execution_count": 16,
   "metadata": {},
   "outputs": [
    {
     "ename": "NameError",
     "evalue": "name 'cleaned_df' is not defined",
     "output_type": "error",
     "traceback": [
      "\u001b[1;31m---------------------------------------------------------------------------\u001b[0m",
      "\u001b[1;31mNameError\u001b[0m                                 Traceback (most recent call last)",
      "Input \u001b[1;32mIn [16]\u001b[0m, in \u001b[0;36m<cell line: 2>\u001b[1;34m()\u001b[0m\n\u001b[0;32m      1\u001b[0m \u001b[38;5;66;03m# Writing DataFrame to a JSON file\u001b[39;00m\n\u001b[1;32m----> 2\u001b[0m \u001b[43mcleaned_df\u001b[49m\u001b[38;5;241m.\u001b[39mwrite\u001b[38;5;241m.\u001b[39mjson(\u001b[38;5;124mr\u001b[39m\u001b[38;5;124m\"\u001b[39m\u001b[38;5;124mC:\u001b[39m\u001b[38;5;124m\\\u001b[39m\u001b[38;5;124mUsers\u001b[39m\u001b[38;5;124m\\\u001b[39m\u001b[38;5;124madmin\u001b[39m\u001b[38;5;124m\\\u001b[39m\u001b[38;5;124mDesktop\u001b[39m\u001b[38;5;124m\\\u001b[39m\u001b[38;5;124mExploratory\u001b[39m\u001b[38;5;124m\\\u001b[39m\u001b[38;5;124mcleaned_data.json\u001b[39m\u001b[38;5;124m\"\u001b[39m, header\u001b[38;5;241m=\u001b[39m\u001b[38;5;28;01mTrue\u001b[39;00m)\n",
      "\u001b[1;31mNameError\u001b[0m: name 'cleaned_df' is not defined"
     ]
    }
   ],
   "source": [
    "# Writing DataFrame to a JSON file\n",
    "cleaned_df.write.json(r\"C:\\Users\\admin\\Desktop\\Exploratory\\cleaned_data.json\", header=True)\n"
   ]
  }
 ],
 "metadata": {
  "kernelspec": {
   "display_name": "Python 3",
   "language": "python",
   "name": "python3"
  },
  "language_info": {
   "codemirror_mode": {
    "name": "ipython",
    "version": 3
   },
   "file_extension": ".py",
   "mimetype": "text/x-python",
   "name": "python",
   "nbconvert_exporter": "python",
   "pygments_lexer": "ipython3",
   "version": "3.11.0"
  }
 },
 "nbformat": 4,
 "nbformat_minor": 2
}
